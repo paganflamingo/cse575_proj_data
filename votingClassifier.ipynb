{
 "cells": [
  {
   "cell_type": "code",
   "execution_count": 34,
   "metadata": {},
   "outputs": [],
   "source": [
    "import pandas as pd\n",
    "import numpy as np\n",
    "\n",
    "xRaw = pd.read_csv(\"cse575_proj_data/x_raw.csv\", sep=',',header=None)\n",
    "yRaw = pd.read_csv(\"cse575_proj_data/y_raw.csv\", sep=',',header=None)\n",
    "\n",
    "#print(xRaw.head().values)\n",
    "#print(yRaw.head().values)"
   ]
  },
  {
   "cell_type": "code",
   "execution_count": 9,
   "metadata": {},
   "outputs": [
    {
     "name": "stdout",
     "output_type": "stream",
     "text": [
      "(5043, 55)\n",
      "(5043,)\n"
     ]
    }
   ],
   "source": [
    "xnplist = [np.array(xi) for xi in xRaw.values]\n",
    "ylist = [y[0] for y in yRaw.values]\n",
    "\n",
    "X = np.stack(xnplist)\n",
    "y = np.array(ylist)\n",
    "\n",
    "print(X.shape)\n",
    "print(y.shape)"
   ]
  },
  {
   "cell_type": "code",
   "execution_count": 39,
   "metadata": {},
   "outputs": [],
   "source": [
    "import pandas as pd\n",
    "\n",
    "RAW = pd.read_csv(\"output.csv\")"
   ]
  },
  {
   "cell_type": "code",
   "execution_count": 43,
   "metadata": {},
   "outputs": [
    {
     "name": "stdout",
     "output_type": "stream",
     "text": [
      "(5043, 25)\n",
      "(5043,)\n"
     ]
    }
   ],
   "source": [
    "ylist = RAW['koi_disposition'].to_list()\n",
    "y = np.array(ylist)\n",
    "\n",
    "Xdf = RAW.drop(columns=['koi_disposition'])\n",
    "xnplist = [np.array(xi) for xi in Xdf.values]\n",
    "X = np.stack(xnplist)\n",
    "\n",
    "print(X.shape)\n",
    "print(y.shape)"
   ]
  },
  {
   "cell_type": "code",
   "execution_count": 48,
   "metadata": {},
   "outputs": [],
   "source": [
    "from sklearn.linear_model import LogisticRegression\n",
    "from sklearn.naive_bayes import GaussianNB\n",
    "from sklearn.ensemble import RandomForestClassifier, VotingClassifier\n",
    "from sklearn import svm\n",
    "\n",
    "clf1 = LogisticRegression(max_iter = 1000,random_state=1)\n",
    "clf2 = RandomForestClassifier(n_estimators=50, random_state=1)\n",
    "clf3 = GaussianNB()\n",
    "clf4 = svm.SVC(probability = True)\n",
    "\n",
    "eclf1 = VotingClassifier(estimators=[('lr', clf1), ('rf', clf2), ('gnb', clf3), ('svm', clf4)], voting='soft')"
   ]
  },
  {
   "cell_type": "code",
   "execution_count": 45,
   "metadata": {},
   "outputs": [],
   "source": [
    "from sklearn.model_selection import train_test_split\n",
    "\n",
    "X_train, X_test, y_train, y_test = train_test_split(X, y, test_size=0.3)\n",
    "\n",
    "eclf1 = eclf1.fit(X_train, y_train)"
   ]
  },
  {
   "cell_type": "code",
   "execution_count": 51,
   "metadata": {},
   "outputs": [
    {
     "name": "stdout",
     "output_type": "stream",
     "text": [
      "0.9436830430883949\n",
      "0.9425204870013207\n",
      "0.9436830430883949\n",
      "0.943869803704277\n",
      "547.6\n",
      "40.0\n",
      "16.8\n",
      "404.2\n"
     ]
    }
   ],
   "source": [
    "from sklearn import metrics\n",
    "from sklearn.model_selection import KFold\n",
    "\n",
    "kf = KFold(n_splits=5, random_state=0, shuffle = True)\n",
    "\n",
    "avgs = []\n",
    "macrof1s = []\n",
    "microf1s = []\n",
    "weightedf1s = []\n",
    "tps = []\n",
    "fps = []\n",
    "fns = []\n",
    "tns = []\n",
    "\n",
    "\n",
    "for train_index, test_index in kf.split(X, y):\n",
    "    X_train, X_test = X[train_index], X[test_index]\n",
    "    y_train, y_test = y[train_index], y[test_index]\n",
    "    \n",
    "    eclf1 = eclf1.fit(X_train, y_train)\n",
    "    \n",
    "    y_pred = eclf1.predict(X_test)\n",
    "    avgs.append(metrics.accuracy_score(y_test, y_pred))\n",
    "    macrof1s.append(f1_score(y_test, y_pred, average='macro'))\n",
    "    microf1s.append(f1_score(y_test, y_pred, average='micro'))\n",
    "    weightedf1s.append(f1_score(y_test, y_pred, average='weighted'))\n",
    "    tps.append(confusion_matrix(y_test, y_pred)[0][0])\n",
    "    fps.append(confusion_matrix(y_test, y_pred)[0][1])\n",
    "    fns.append(confusion_matrix(y_test, y_pred)[1][0])\n",
    "    tns.append(confusion_matrix(y_test, y_pred)[1][1])\n",
    "    \n",
    "    \n",
    "\n",
    "print(sum(avgs)/len(avgs))\n",
    "print(sum(macrof1s)/len(avgs))\n",
    "print(sum(microf1s)/len(avgs))\n",
    "print(sum(weightedf1s)/len(avgs))\n",
    "print(sum(tps)/len(avgs))\n",
    "print(sum(fps)/len(avgs))\n",
    "print(sum(fns)/len(avgs))\n",
    "print(sum(tns)/len(avgs))"
   ]
  },
  {
   "cell_type": "code",
   "execution_count": 47,
   "metadata": {
    "scrolled": true
   },
   "outputs": [
    {
     "name": "stdout",
     "output_type": "stream",
     "text": [
      "Accuracy: 0.9438202247191011\n",
      "[[821  56]\n",
      " [ 29 607]]\n",
      "              precision    recall  f1-score   support\n",
      "\n",
      "         0.0       0.97      0.94      0.95       877\n",
      "         1.0       0.92      0.95      0.93       636\n",
      "\n",
      "    accuracy                           0.94      1513\n",
      "   macro avg       0.94      0.95      0.94      1513\n",
      "weighted avg       0.94      0.94      0.94      1513\n",
      "\n",
      "0.9426733762062751\n",
      "0.9438202247191011\n",
      "0.9439649205595044\n"
     ]
    }
   ],
   "source": [
    "from sklearn import metrics\n",
    "\n",
    "#evaluate model\n",
    "y_pred = eclf1.predict(X_test)\n",
    "\n",
    "\n",
    "print(\"Accuracy:\",metrics.accuracy_score(y_test, y_pred))\n",
    "\n",
    "from sklearn.metrics import classification_report, confusion_matrix, f1_score, accuracy_score\n",
    "\n",
    "print(confusion_matrix(y_test, y_pred))\n",
    "print(classification_report(y_test, y_pred))\n",
    "\n",
    "print(f1_score(y_test, y_pred, average='macro'))\n",
    "print(f1_score(y_test, y_pred, average='micro'))\n",
    "print(f1_score(y_test, y_pred, average='weighted'))"
   ]
  },
  {
   "cell_type": "code",
   "execution_count": null,
   "metadata": {},
   "outputs": [],
   "source": []
  }
 ],
 "metadata": {
  "kernelspec": {
   "display_name": "Python 3",
   "language": "python",
   "name": "python3"
  },
  "language_info": {
   "codemirror_mode": {
    "name": "ipython",
    "version": 3
   },
   "file_extension": ".py",
   "mimetype": "text/x-python",
   "name": "python",
   "nbconvert_exporter": "python",
   "pygments_lexer": "ipython3",
   "version": "3.8.5"
  }
 },
 "nbformat": 4,
 "nbformat_minor": 4
}
